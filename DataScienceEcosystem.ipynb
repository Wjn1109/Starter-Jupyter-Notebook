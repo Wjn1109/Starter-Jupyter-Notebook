{
 "cells": [
  {
   "cell_type": "markdown",
   "metadata": {},
   "source": [
    "# **Data Science Tools and Ecosystem**"
   ]
  },
  {
   "cell_type": "markdown",
   "metadata": {},
   "source": [
    "#### *In this notebook, Data Science Tools and Ecosystem are summarized.*"
   ]
  },
  {
   "cell_type": "markdown",
   "metadata": {},
   "source": [
    "##### **Some of the popular languages that Data Scientists use are:**\n",
    "1. Python: A versatile that supports machine learning, data analysis, web development, and much more.\n",
    "2. R: A powerful statistical programming language that is widely used for data analysis and machine learning.\n",
    "3. Julia: A high-level programming language that combines the ease of use of Python with the performance of compiled languages.\n",
    "4. MATLAB: A powerful mathematical software that is widely used in engineering, finance and scientific computing.\n",
    "5. SQL: A relational database management system that is commonly used for data analysis and data manipulation\n",
    "6. Apache SPARK: A distributed computing framework that supports big data processing and machine learning."
   ]
  },
  {
   "cell_type": "markdown",
   "metadata": {},
   "source": [
    "##### **Some of the commonly used libraries used by Data Scientists include:**\n",
    "1. NumPy: A powerful library for numerical operations in Python.\n",
    "2. Pandas: A library for data manipulation and analysis in Python.\n",
    "3. Scikit-learn: A machine learning library that provides tools for data preprocessing, model training, and evaluation.\n",
    "4. TensorFlow: A popular machine learning library that supports both TensorFlow and Keras for building and training neural networks.\n",
    "5. PyTorch: A popular machine learning library that supports both PyTorch and TorchVision for building and training neural networks.\n",
    "6. Keras: A high-level neural network library that is compatible with TensorFlow and Theano."
   ]
  },
  {
   "cell_type": "markdown",
   "metadata": {},
   "source": [
    "##### **Data Science Tools**\n",
    "1. Jupyter Notebook: A web-based interactive development environment for Python programming.\n",
    "2. Visual Studio Code: A powerful integrated development environment (IDE) that supports Python programming.\n",
    "3. RStudio: A powerful integrated development environment (IDE) that supports R programming.\n",
    "4. Google Colab: A cloud-based platform for executing Python code and analyzing data.\n",
    "5. Amazon SageMaker: A fully-managed machine learning service that provides tools for training and deploying machine learning models.\n",
    "6. Azure Machine Learning: A cloud-based platform for building, training, and deploying machine learning models."
   ]
  },
  {
   "cell_type": "markdown",
   "metadata": {},
   "source": [
    "### Below are a few examples of evaluating arithmetic expressions in Python"
   ]
  },
  {
   "cell_type": "code",
   "execution_count": 1,
   "metadata": {},
   "outputs": [
    {
     "data": {
      "text/plain": [
       "17"
      ]
     },
     "execution_count": 1,
     "metadata": {},
     "output_type": "execute_result"
    }
   ],
   "source": [
    "#This a simple arithmetic expression to multiply then add integers\n",
    "(3*4)+5"
   ]
  },
  {
   "cell_type": "code",
   "execution_count": 2,
   "metadata": {},
   "outputs": [
    {
     "data": {
      "text/plain": [
       "3.3333333333333335"
      ]
     },
     "execution_count": 2,
     "metadata": {},
     "output_type": "execute_result"
    }
   ],
   "source": [
    "#This will convert 200 minutes to hours by diving by 60\n",
    "\n",
    "minutes = 200\n",
    "hours = minutes / 60\n",
    "hours"
   ]
  },
  {
   "cell_type": "markdown",
   "metadata": {},
   "source": [
    "##### **Objectives:**\n",
    "1. To provide an overview of popular data science tools and ecosystem.\n",
    "2. To demonstrate the use of some commonly used libraries and tools for data analysis and machine learning.\n",
    "3. To demonstrate basic arithmetic operations in Python."
   ]
  },
  {
   "cell_type": "markdown",
   "metadata": {},
   "source": [
    "## Author\n",
    "Ning WJ"
   ]
  }
 ],
 "metadata": {
  "kernelspec": {
   "display_name": "Python 3",
   "language": "python",
   "name": "python3"
  },
  "language_info": {
   "codemirror_mode": {
    "name": "ipython",
    "version": 3
   },
   "file_extension": ".py",
   "mimetype": "text/x-python",
   "name": "python",
   "nbconvert_exporter": "python",
   "pygments_lexer": "ipython3",
   "version": "3.12.4"
  }
 },
 "nbformat": 4,
 "nbformat_minor": 2
}
